{
 "cells": [
  {
   "cell_type": "code",
   "execution_count": 14,
   "metadata": {},
   "outputs": [],
   "source": [
    "import os\n",
    "for i in range(2):\n",
    "    os.system('./ga1/ga infile')\n",
    "    os.system('cp ofile ofile' + str(i))"
   ]
  },
  {
   "cell_type": "markdown",
   "metadata": {},
   "source": [
    "# Plan:\n",
    "\n",
    "Write and compile 6 optimizers.\n",
    "\n",
    "Minimization conversion\n",
    "\n",
    "Bit space and evaluation\n",
    "\n",
    "testing\n",
    "\n",
    "30 trials and stats, change random seed to gen from clock to automate trials\n",
    "\n",
    "\n",
    "## Pt 1: \n",
    "\n",
    "### Bit representation:\n",
    "\n",
    "1024 bits (ignore -5.12)\n",
    "\n",
    "5 items, so 50 bits total\n",
    "\n",
    "### Minimzation to maximization \n",
    "-5.12 : 5.12\n",
    "ignore -5.12\n",
    "5.12 ^2 * 5 = 132\n",
    "\n",
    "fitness = 132 - sum(x_1^2, x_2^2 ... x_5^2)\n",
    "\n",
    "\n",
    "### Answer: \n",
    "5.12^2 *5\n",
    "~132\n",
    "\n",
    "## Pt 2: \n",
    "\n",
    "### Bit representation:\n",
    "\n",
    "-2.048 : 2.048\n",
    "ignore -2.048\n",
    "12 bits per dimension, 2 dimensions\n",
    "24 bits\n",
    "\n",
    "### Minimzation8 to maximization \n",
    "\n",
    "Minimize f(x1, x2) = 100(x_1^2  − x_2)^2+ (1−x_1)^2\n",
    "    \n",
    "max (f(x1,x2) ): x_1 = 2.048 , x_2 = -2.048\n",
    "max = 3897.7342268415996\n",
    "\n",
    "maximize 3898 - 100(x_1^2  − x_2)^2+ (1−x_1)^2 \n",
    "    \n",
    "### Answer: \n",
    "~3898\n",
    "    \n",
    "## Pt 3: \n",
    "\n",
    "### Bit representation:\n",
    "\n",
    "Same as pt 1 for x_i\n",
    "\n",
    "30 bits \n",
    "\n",
    "\n",
    "### Minimzation to maximization \n",
    "\n",
    "guass is normal dist noise\n",
    "fitness = 26-f(x) // 26 unlikely to crash on negative fitness (guass dist has prob of outlying values to break ga with negative fitness)\n",
    "\n",
    "### Answer: \n",
    "~26\n",
    "\n",
    "## Pt 4: \n",
    "\n",
    "### Bit representation:\n",
    "\n",
    "-1.28 : 1.28\n",
    "ignore -1.28\n",
    "\n",
    "256 -> 8 bit \n",
    "\n",
    "30 dimensions, 8 bits each\n",
    "240 bits\n",
    "\n",
    "### Minimzation to maximization \n",
    " max value = 1408 \n",
    " \n",
    " fitness= 1408 - f(x)\n",
    " \n",
    "### Answer: \n",
    "1408\n",
    "\n",
    "\n",
    "## Pt 5: \n",
    "\n",
    "### Bit representation:\n",
    "\n",
    "-65.536 : 65.536\n",
    "ignore -65.536\n",
    "\n",
    "131072 -> 17 bit \n",
    "\n",
    "25 dimensions, 17 bits each\n",
    "425 bits\n",
    "\n",
    "### Minimzation to maximization \n",
    " max value = 499999999999999937\n",
    " \n",
    " fitness = 499999999999999937 -f(x)\n",
    "\n",
    "### Answer: \n",
    "499999999999999937"
   ]
  },
  {
   "cell_type": "code",
   "execution_count": 15,
   "metadata": {},
   "outputs": [
    {
     "ename": "NameError",
     "evalue": "name 'np' is not defined",
     "output_type": "error",
     "traceback": [
      "\u001b[0;31m---------------------------------------------------------------------------\u001b[0m",
      "\u001b[0;31mNameError\u001b[0m                                 Traceback (most recent call last)",
      "\u001b[0;32m<ipython-input-15-09ba866342db>\u001b[0m in \u001b[0;36m<module>\u001b[0;34m\u001b[0m\n\u001b[1;32m      2\u001b[0m \u001b[0mx_max\u001b[0m \u001b[0;34m=\u001b[0m \u001b[0;36m5.12\u001b[0m\u001b[0;34m\u001b[0m\u001b[0;34m\u001b[0m\u001b[0m\n\u001b[1;32m      3\u001b[0m \u001b[0mx_min\u001b[0m \u001b[0;34m=\u001b[0m \u001b[0;34m-\u001b[0m\u001b[0;36m5.12\u001b[0m\u001b[0;34m\u001b[0m\u001b[0;34m\u001b[0m\u001b[0m\n\u001b[0;32m----> 4\u001b[0;31m \u001b[0mx\u001b[0m \u001b[0;34m=\u001b[0m \u001b[0mnp\u001b[0m\u001b[0;34m.\u001b[0m\u001b[0mzeros\u001b[0m\u001b[0;34m(\u001b[0m\u001b[0;34m[\u001b[0m\u001b[0;36m5\u001b[0m\u001b[0;34m,\u001b[0m\u001b[0;36m1\u001b[0m\u001b[0;34m]\u001b[0m\u001b[0;34m)\u001b[0m\u001b[0;34m\u001b[0m\u001b[0;34m\u001b[0m\u001b[0m\n\u001b[0m\u001b[1;32m      5\u001b[0m \u001b[0;32mfor\u001b[0m \u001b[0mi\u001b[0m \u001b[0;32min\u001b[0m \u001b[0mrange\u001b[0m\u001b[0;34m(\u001b[0m\u001b[0;36m5\u001b[0m\u001b[0;34m)\u001b[0m\u001b[0;34m:\u001b[0m\u001b[0;34m\u001b[0m\u001b[0;34m\u001b[0m\u001b[0m\n\u001b[1;32m      6\u001b[0m     \u001b[0;31m#print(i)\u001b[0m\u001b[0;34m\u001b[0m\u001b[0;34m\u001b[0m\u001b[0;34m\u001b[0m\u001b[0m\n",
      "\u001b[0;31mNameError\u001b[0m: name 'np' is not defined"
     ]
    }
   ],
   "source": []
  },
  {
   "cell_type": "code",
   "execution_count": 18,
   "metadata": {},
   "outputs": [
    {
     "data": {
      "text/plain": [
       "3897.7342268415996"
      ]
     },
     "execution_count": 18,
     "metadata": {},
     "output_type": "execute_result"
    }
   ],
   "source": [
    "x1 = 2.048\n",
    "x2 = -2.048\n",
    "rosenblat_max = 100* ((x1 ** 2  )-( x2))**2 + ((1 - x1))**2 \n",
    "rosenblat_max "
   ]
  },
  {
   "cell_type": "code",
   "execution_count": 27,
   "metadata": {},
   "outputs": [
    {
     "data": {
      "text/plain": [
       "1408"
      ]
     },
     "execution_count": 27,
     "metadata": {},
     "output_type": "execute_result"
    }
   ],
   "source": [
    "\n",
    "#Pt 4:\n",
    "\n",
    "sum = 0\n",
    "for i in range(30):\n",
    "    foo = i * 1.28 ** 4 + 8\n",
    "    sum =  foo + sum\n",
    "    \n",
    "sum = int(sum) +1\n",
    "sum\n",
    "\n"
   ]
  },
  {
   "cell_type": "code",
   "execution_count": 5,
   "metadata": {},
   "outputs": [
    {
     "data": {
      "text/plain": [
       "499999999999999937"
      ]
     },
     "execution_count": 5,
     "metadata": {},
     "output_type": "execute_result"
    }
   ],
   "source": [
    "# Pt5:\n",
    "net = 0\n",
    "for i in range(25):\n",
    "    foo = 0.002 + (1/(  (i+(.001)**6)  + (.001)**6))\n",
    "    net = foo + net\n",
    "    \n",
    "net = int(net)+1\n",
    "net"
   ]
  },
  {
   "cell_type": "markdown",
   "metadata": {},
   "source": [
    "dave@freel:~/Documents/unr/fall20/cs776/PA3/ga1$ cat infile \n",
    "50\n",
    "50\n",
    "75\n",
    "0.70\n",
    "0.001\n",
    "ofile\n",
    "dave@freel:~/Documents/unr/fall20/cs776/PA3/ga1$ cd ../ga2\n",
    "dave@freel:~/Documents/unr/fall20/cs776/PA3/ga2$ cat infile \n",
    "50\n",
    "24\n",
    "75\n",
    "0.70\n",
    "0.001\n",
    "ofile\n",
    "dave@freel:~/Documents/unr/fall20/cs776/PA3/ga2$ cd ../ga3\n",
    "dave@freel:~/Documents/unr/fall20/cs776/PA3/ga3$ cat infile \n",
    "50\n",
    "24\n",
    "75\n",
    "0.70\n",
    "0.001\n",
    "ofile\n",
    "dave@freel:~/Documents/unr/fall20/cs776/PA3/ga3$ cd ../ga4\n",
    "dave@freel:~/Documents/unr/fall20/cs776/PA3/ga4$ cat infile \n",
    "50\n",
    "240\n",
    "75\n",
    "0.70\n",
    "0.001\n",
    "ofile\n",
    "dave@freel:~/Documents/unr/fall20/cs776/PA3/ga4$ cd ../ga5\n",
    "dave@freel:~/Documents/unr/fall20/cs776/PA3/ga5$ cat infile \n",
    "50\n",
    "24\n",
    "75\n",
    "0.70\n",
    "0.001\n",
    "ofile\n",
    "dave@freel:~/Documents/unr/fall20/cs776/PA3/ga5$ cd ../ga6\n",
    "dave@freel:~/Documents/unr/fall20/cs776/PA3/ga6$ cat infile \n",
    "50\n",
    "100\n",
    "75\n",
    "0.70\n",
    "0.001\n",
    "ofile\n",
    "dave@freel:~/Documents/unr/fall20/cs776/PA3/ga6$ \n"
   ]
  },
  {
   "cell_type": "code",
   "execution_count": 13,
   "metadata": {},
   "outputs": [],
   "source": [
    "\n"
   ]
  },
  {
   "cell_type": "code",
   "execution_count": null,
   "metadata": {},
   "outputs": [],
   "source": []
  },
  {
   "cell_type": "code",
   "execution_count": null,
   "metadata": {
    "scrolled": true
   },
   "outputs": [],
   "source": []
  },
  {
   "cell_type": "code",
   "execution_count": null,
   "metadata": {},
   "outputs": [],
   "source": []
  },
  {
   "cell_type": "code",
   "execution_count": null,
   "metadata": {},
   "outputs": [],
   "source": []
  },
  {
   "cell_type": "code",
   "execution_count": null,
   "metadata": {},
   "outputs": [],
   "source": []
  },
  {
   "cell_type": "code",
   "execution_count": null,
   "metadata": {},
   "outputs": [],
   "source": []
  },
  {
   "cell_type": "code",
   "execution_count": null,
   "metadata": {},
   "outputs": [],
   "source": []
  },
  {
   "cell_type": "code",
   "execution_count": null,
   "metadata": {},
   "outputs": [],
   "source": []
  }
 ],
 "metadata": {
  "kernelspec": {
   "display_name": "Python 3",
   "language": "python",
   "name": "python3"
  },
  "language_info": {
   "codemirror_mode": {
    "name": "ipython",
    "version": 3
   },
   "file_extension": ".py",
   "mimetype": "text/x-python",
   "name": "python",
   "nbconvert_exporter": "python",
   "pygments_lexer": "ipython3",
   "version": "3.6.9"
  }
 },
 "nbformat": 4,
 "nbformat_minor": 4
}
