{
 "cells": [
  {
   "cell_type": "code",
   "execution_count": 1,
   "metadata": {},
   "outputs": [],
   "source": [
    "import subprocess\n",
    "import timeit\n",
    "import os\n",
    "import time\n",
    "import math\n",
    "import random\n",
    "#path = '/home/dave/Documents/unr/fall20/cs776/PA1/foo'"
   ]
  },
  {
   "cell_type": "code",
   "execution_count": 26,
   "metadata": {},
   "outputs": [],
   "source": [
    "class hill_climb:\n",
    "    \n",
    "    class climber:\n",
    "        \n",
    "        def __init__(self):\n",
    "            \n",
    "            self.combo = self.make_rand_position()\n",
    "            self.combo = [0]*100\n",
    "            self.fitness = 0\n",
    "            self.n_evals = 0\n",
    "        def show(self):\n",
    "            \n",
    "            print(self.combo)\n",
    "        \n",
    "        def evaluate(self, combo):\n",
    "\n",
    "            f=open('input.txt','w+')\n",
    "            for item in combo:\n",
    "                f.write(str(item)+'\\n')\n",
    "                \n",
    "            f.close()\n",
    "\n",
    "            os.system('./cpp_eval')\n",
    "            \n",
    "            f = open('fitness_out.txt', 'r')\n",
    "            fitness = f.read()\n",
    "            f.close()\n",
    "            \n",
    "            self.n_evals = self.n_evals + 1\n",
    "            \n",
    "            #print('fit',fitness)\n",
    "            return fitness\n",
    "        \n",
    "        def update(self,combo):\n",
    "            fitness = self.evaluate()\n",
    "            #print('fit',fitness)\n",
    "\n",
    "            return fitness\n",
    "\n",
    "        def make_rand_position(self):\n",
    "            rand_position = [0]*100\n",
    "            for i in range(0,100):\n",
    "                rand_position[i] = str(int(random.random() > 0.5))\n",
    "            return rand_position\n",
    "\n",
    "        def inject_noise(self,position):\n",
    "            new_position = position.copy()\n",
    "            noise = self.make_rand_position()\n",
    "            for i in range(0,100):\n",
    "                if int(noise[i]):\n",
    "                    new_position[i] = str(int(not int(new_position[i])))\n",
    "            #print(noise)\n",
    "            #print(position)\n",
    "            return new_position\n",
    "        \n",
    "        def map_differentials(self,position):\n",
    "            diff_list = []\n",
    "\n",
    "            for i in range(0,100):\n",
    "\n",
    "                row = position.copy()\n",
    "                row[i] = int(not int(row[i]))\n",
    "                #print('position', i, 'from' , position[i],'to',row[i] )\n",
    "                diff_list.append(row)\n",
    "\n",
    "            return diff_list\n",
    "\n",
    "        def update_differential(self,diff_list, previous_position):\n",
    "\n",
    "            i = 0\n",
    "            starting_fitness = self.evaluate(previous_position)\n",
    "\n",
    "            differential_all_dimensions = {}\n",
    "\n",
    "            for row in diff_list:\n",
    "                fitness = self.evaluate(row)\n",
    "                differential =  int(fitness) -int(starting_fitness) \n",
    "                differential_all_dimensions.update({str(i): differential})\n",
    "                i = i +1\n",
    "\n",
    "            return differential_all_dimensions\n",
    "\n",
    "        def iterative_solver( self, init_position, n_iterations):\n",
    "            self.climber_stuck = False\n",
    "            self.known_keys = []\n",
    "            previous_position = init_position.copy()\n",
    "            best_known_fitness = self.evaluate(init_position)\n",
    "            \n",
    "            for iterations in range(n_iterations):\n",
    "                \n",
    "                if self.climber_stuck is False:\n",
    "\n",
    "                    new_position = previous_position.copy()\n",
    "\n",
    "                    for key in range(100):\n",
    "    \n",
    "                        candidate_position = new_position.copy()\n",
    "                        candidate_position[key] = int(not new_position[key])\n",
    "                        candidate_fitness = self.evaluate(candidate_position)\n",
    "                \n",
    "                        if candidate_fitness > best_known_fitness:\n",
    "                            self.known_keys.append(key)\n",
    "                            \n",
    "                            if candidate_fitness == 100:\n",
    "                                return candidate_fitness\n",
    "                            \n",
    "                            new_position = candidate_position\n",
    "                            best_known_fitness = candidate_fitness\n",
    "                            print('fitness',best_known_fitness)\n",
    "                            \n",
    "                    if previous_position == new_position:\n",
    "                        self.climber_stuck = True\n",
    "                        \n",
    "                    previous_position = new_position\n",
    "                    \n",
    "                else:\n",
    "                    print('stuck at:', previous_position)\n",
    "                    #enumerate rest of state space to search\n",
    "                    self.unknown_keys = []\n",
    "                    #print(self.known_keys)\n",
    "                    self.unknown_keys = list(set(range(100)) -set(self.known_keys) )\n",
    "                    \n",
    "#                    for key in differential_all_dimensions:\n",
    "                            #print(key)\n",
    "                            #unknown_keys.append(key)\n",
    "                    \n",
    "                    print('kk',(self.known_keys),'\\nuk', (self.unknown_keys))"
   ]
  },
  {
   "cell_type": "code",
   "execution_count": 27,
   "metadata": {},
   "outputs": [],
   "source": [
    "my_climber = hill_climb.climber()\n",
    "solution = []"
   ]
  },
  {
   "cell_type": "code",
   "execution_count": 28,
   "metadata": {},
   "outputs": [
    {
     "name": "stdout",
     "output_type": "stream",
     "text": [
      "fitness 39\n",
      "\n",
      "fitness 40\n",
      "\n",
      "fitness 41\n",
      "\n",
      "fitness 42\n",
      "\n",
      "fitness 43\n",
      "\n",
      "fitness 44\n",
      "\n",
      "fitness 45\n",
      "\n",
      "fitness 46\n",
      "\n",
      "fitness 47\n",
      "\n",
      "fitness 48\n",
      "\n",
      "fitness 49\n",
      "\n",
      "fitness 50\n",
      "\n",
      "fitness 51\n",
      "\n",
      "fitness 52\n",
      "\n",
      "fitness 53\n",
      "\n",
      "fitness 54\n",
      "\n",
      "fitness 55\n",
      "\n",
      "fitness 56\n",
      "\n",
      "fitness 57\n",
      "\n",
      "fitness 58\n",
      "\n",
      "fitness 59\n",
      "\n",
      "fitness 60\n",
      "\n",
      "fitness 61\n",
      "\n",
      "fitness 62\n",
      "\n",
      "fitness 63\n",
      "\n",
      "stuck at: ['0', '0', '0', '1', '0', '0', '0', '1', '1', '0', '0', '0', '0', '1', '0', '0', '0', '0', '0', '0', '0', '1', '0', '0', '0', '0', '0', '0', '1', '1', '0', '1', '0', '0', '1', '0', '1', '1', '1', '1', '0', '1', '0', '1', '1', '1', '1', '1', '0', '1', '0', '0', 0, '0', '0', 0, 0, '0', 0, 0, 0, '0', '0', '0', 0, '0', '0', 0, '0', '0', 0, '0', '0', 0, '0', '0', 0, 0, 0, '0', 0, 0, 0, '0', '0', 0, '0', 0, '0', 0, 0, '0', 0, '0', '0', 0, 0, 0, 0, '0']\n",
      "kk [52, 55, 56, 58, 59, 60, 64, 67, 70, 73, 76, 77, 78, 80, 81, 82, 85, 87, 89, 90, 92, 95, 96, 97, 98] \n",
      "uk [0, 1, 2, 3, 4, 5, 6, 7, 8, 9, 10, 11, 12, 13, 14, 15, 16, 17, 18, 19, 20, 21, 22, 23, 24, 25, 26, 27, 28, 29, 30, 31, 32, 33, 34, 35, 36, 37, 38, 39, 40, 41, 42, 43, 44, 45, 46, 47, 48, 49, 50, 51, 53, 54, 57, 61, 62, 63, 65, 66, 68, 69, 71, 72, 74, 75, 79, 83, 84, 86, 88, 91, 93, 94, 99]\n",
      "stuck at: ['0', '0', '0', '1', '0', '0', '0', '1', '1', '0', '0', '0', '0', '1', '0', '0', '0', '0', '0', '0', '0', '1', '0', '0', '0', '0', '0', '0', '1', '1', '0', '1', '0', '0', '1', '0', '1', '1', '1', '1', '0', '1', '0', '1', '1', '1', '1', '1', '0', '1', '0', '0', 0, '0', '0', 0, 0, '0', 0, 0, 0, '0', '0', '0', 0, '0', '0', 0, '0', '0', 0, '0', '0', 0, '0', '0', 0, 0, 0, '0', 0, 0, 0, '0', '0', 0, '0', 0, '0', 0, 0, '0', 0, '0', '0', 0, 0, 0, 0, '0']\n",
      "kk [52, 55, 56, 58, 59, 60, 64, 67, 70, 73, 76, 77, 78, 80, 81, 82, 85, 87, 89, 90, 92, 95, 96, 97, 98] \n",
      "uk [0, 1, 2, 3, 4, 5, 6, 7, 8, 9, 10, 11, 12, 13, 14, 15, 16, 17, 18, 19, 20, 21, 22, 23, 24, 25, 26, 27, 28, 29, 30, 31, 32, 33, 34, 35, 36, 37, 38, 39, 40, 41, 42, 43, 44, 45, 46, 47, 48, 49, 50, 51, 53, 54, 57, 61, 62, 63, 65, 66, 68, 69, 71, 72, 74, 75, 79, 83, 84, 86, 88, 91, 93, 94, 99]\n"
     ]
    }
   ],
   "source": [
    "my_climber = hill_climb.climber()\n",
    "    \n",
    "n_trials = 1\n",
    "\n",
    "for i in range(n_trials):\n",
    "    \n",
    "    init_pos = my_climber.make_rand_position()\n",
    "    #print(init_pos)\n",
    "    solution.append(my_climber.iterative_solver(init_pos, 4))\n",
    "    #print(solution[i])\n",
    "\n",
    "    \n",
    "    "
   ]
  },
  {
   "cell_type": "code",
   "execution_count": 19,
   "metadata": {},
   "outputs": [
    {
     "name": "stdout",
     "output_type": "stream",
     "text": [
      "None\n"
     ]
    }
   ],
   "source": [
    "for i in range(n_trials):\n",
    "    print(solution[i])"
   ]
  },
  {
   "cell_type": "code",
   "execution_count": 6,
   "metadata": {},
   "outputs": [
    {
     "name": "stdout",
     "output_type": "stream",
     "text": [
      "403\n"
     ]
    }
   ],
   "source": [
    "print(my_climber.n_evals)"
   ]
  },
  {
   "cell_type": "code",
   "execution_count": 7,
   "metadata": {},
   "outputs": [
    {
     "name": "stdout",
     "output_type": "stream",
     "text": [
      "['51', '52', '54', '56', '57', '59', '63', '65', '68', '69', '70', '72', '74', '79', '80', '83', '84', '85', '91', '94', '95', '96', '97', '99']\n"
     ]
    }
   ],
   "source": [
    "print(my_climber.known_keys)"
   ]
  },
  {
   "cell_type": "code",
   "execution_count": 8,
   "metadata": {},
   "outputs": [
    {
     "name": "stdout",
     "output_type": "stream",
     "text": [
      "{3, 4}\n"
     ]
    }
   ],
   "source": [
    "\n",
    "    print(set(range(5)) - set(range(3)))"
   ]
  },
  {
   "cell_type": "code",
   "execution_count": null,
   "metadata": {},
   "outputs": [],
   "source": []
  },
  {
   "cell_type": "code",
   "execution_count": null,
   "metadata": {},
   "outputs": [],
   "source": []
  }
 ],
 "metadata": {
  "kernelspec": {
   "display_name": "Python 3",
   "language": "python",
   "name": "python3"
  },
  "language_info": {
   "codemirror_mode": {
    "name": "ipython",
    "version": 3
   },
   "file_extension": ".py",
   "mimetype": "text/x-python",
   "name": "python",
   "nbconvert_exporter": "python",
   "pygments_lexer": "ipython3",
   "version": "3.6.9"
  }
 },
 "nbformat": 4,
 "nbformat_minor": 4
}
